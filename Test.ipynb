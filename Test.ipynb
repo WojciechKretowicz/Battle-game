{
 "cells": [
  {
   "cell_type": "code",
   "execution_count": 1,
   "metadata": {},
   "outputs": [],
   "source": [
    "from battle import Battle\n",
    "import random"
   ]
  },
  {
   "cell_type": "code",
   "execution_count": 2,
   "metadata": {},
   "outputs": [],
   "source": [
    "battle = Battle()"
   ]
  },
  {
   "cell_type": "code",
   "execution_count": 4,
   "metadata": {
    "scrolled": true
   },
   "outputs": [
    {
     "name": "stdout",
     "output_type": "stream",
     "text": [
      "Player 2 won\n"
     ]
    },
    {
     "data": {
      "text/plain": [
       "2"
      ]
     },
     "execution_count": 4,
     "metadata": {},
     "output_type": "execute_result"
    }
   ],
   "source": [
    "battle.play()"
   ]
  },
  {
   "cell_type": "code",
   "execution_count": 6,
   "metadata": {},
   "outputs": [
    {
     "data": {
      "text/plain": [
       "[[],\n",
       " [{'cards': ((6, 0), (6, 1)), 'winner': 0, 'hidden': ((9, 1), (8, 3))},\n",
       "  {'cards': ((5, 1), (4, 1)), 'winner': 1}],\n",
       " [{'cards': ((12, 2), (5, 3)), 'winner': 1}],\n",
       " [{'cards': ((2, 2), (0, 3)), 'winner': 1}],\n",
       " [{'cards': ((6, 3), (1, 3)), 'winner': 1}],\n",
       " [{'cards': ((12, 1), (10, 1)), 'winner': 1}],\n",
       " [{'cards': ((4, 3), (0, 1)), 'winner': 1}],\n",
       " [{'cards': ((2, 1), (1, 2)), 'winner': 1}],\n",
       " [{'cards': ((12, 3), (9, 2)), 'winner': 1}],\n",
       " [{'cards': ((2, 0), (10, 2)), 'winner': 2}],\n",
       " [{'cards': ((8, 1), (3, 3)), 'winner': 1}],\n",
       " [{'cards': ((4, 0), (10, 0)), 'winner': 2}],\n",
       " [{'cards': ((7, 0), (12, 0)), 'winner': 2}],\n",
       " [{'cards': ((11, 3), (3, 0)), 'winner': 1}],\n",
       " [{'cards': ((5, 0), (5, 2)), 'winner': 0, 'hidden': ((7, 2), (11, 1))},\n",
       "  {'cards': ((9, 0), (3, 1)), 'winner': 1}],\n",
       " [{'cards': ((7, 3), (8, 2)), 'winner': 2}],\n",
       " [{'cards': ((1, 1), (0, 0)), 'winner': 1}],\n",
       " [{'cards': ((6, 2), (11, 2)), 'winner': 2}],\n",
       " [{'cards': ((8, 0), (0, 2)), 'winner': 1}],\n",
       " [{'cards': ((7, 1), (9, 3)), 'winner': 2}]]"
      ]
     },
     "execution_count": 6,
     "metadata": {},
     "output_type": "execute_result"
    }
   ],
   "source": [
    "battle.history[:20]"
   ]
  },
  {
   "cell_type": "code",
   "execution_count": 7,
   "metadata": {},
   "outputs": [
    {
     "data": {
      "text/plain": [
       "6407"
      ]
     },
     "execution_count": 7,
     "metadata": {},
     "output_type": "execute_result"
    }
   ],
   "source": [
    "len(battle.history)"
   ]
  },
  {
   "cell_type": "code",
   "execution_count": 8,
   "metadata": {},
   "outputs": [
    {
     "data": {
      "text/plain": [
       "0"
      ]
     },
     "execution_count": 8,
     "metadata": {},
     "output_type": "execute_result"
    }
   ],
   "source": [
    "len(battle.player1.cards) + len(battle.player1.discarded)"
   ]
  },
  {
   "cell_type": "code",
   "execution_count": 9,
   "metadata": {},
   "outputs": [
    {
     "data": {
      "text/plain": [
       "52"
      ]
     },
     "execution_count": 9,
     "metadata": {},
     "output_type": "execute_result"
    }
   ],
   "source": [
    "len(battle.player2.cards) + len(battle.player2.discarded)"
   ]
  },
  {
   "cell_type": "code",
   "execution_count": null,
   "metadata": {},
   "outputs": [],
   "source": []
  }
 ],
 "metadata": {
  "kernelspec": {
   "display_name": "Python 3",
   "language": "python",
   "name": "python3"
  },
  "language_info": {
   "codemirror_mode": {
    "name": "ipython",
    "version": 3
   },
   "file_extension": ".py",
   "mimetype": "text/x-python",
   "name": "python",
   "nbconvert_exporter": "python",
   "pygments_lexer": "ipython3",
   "version": "3.8.3"
  }
 },
 "nbformat": 4,
 "nbformat_minor": 4
}
